{
 "cells": [
  {
   "cell_type": "code",
   "execution_count": 1,
   "id": "308b465f-926b-479d-b06a-c157e3b3101c",
   "metadata": {},
   "outputs": [],
   "source": [
    "%matplotlib inline\n",
    "import pyneb as pn\n",
    "import numpy as np\n",
    "import matplotlib.pyplot as plt\n",
    "import random"
   ]
  },
  {
   "cell_type": "markdown",
   "id": "c4ebf306-410b-4d26-9ec5-ce89c3f24f37",
   "metadata": {},
   "source": [
    "### Hemos hecho primero la parte 2a (cuaderno: Practica_MIS_2a.ipynb)"
   ]
  },
  {
   "cell_type": "markdown",
   "id": "7c5e1b8b-72cb-4f6b-b57a-38de55356d6e",
   "metadata": {},
   "source": [
    "Vamos a hacer un análisis similar al que hicimos con las líneas de [OIII], pero en este caso utilizando un ión de [OII] que también nos permite determinar temperaturas electrónicas.\n",
    "\n",
    "$$R_{O2}=\\frac{I(3726 A) + I(3729 A)}{I(7319 A) + I(7330 A)}$$\n",
    "\n",
    "<font color=\"red\">Para hacer</font>\n",
    "\n",
    "Suponiendo que el cociente anteior es de $R_{O2}$=125, calcula la temperatura electrónica como en la sesión anterior para 3 diferentes densidades de 10, 100 y 1000 $cm^{-3}$. ¿Varía en este caso la temperatura obtenida con la densidad electrónica? Si no conozco la densidad por otros métodos (aunque sé que está entre los rangos explorados aquí), ¿qué error estoy cometiendo en la determinación de la temperatura?\n",
    "\n",
    "Haz una gráfica con las curvas de Temperatura en función de $R_{O2}$ para las densidades anteriores. Cubre el espacio de parámetros de $R_{O2}$ entre 50 y 250. Si no conozco la densidad por otros medios, ¿qué error cometo en la determinación de la temperatura?"
   ]
  },
  {
   "cell_type": "code",
   "execution_count": 83,
   "id": "34497848-2847-4075-878d-ae6dbadbfe3e",
   "metadata": {},
   "outputs": [],
   "source": [
    "# Your code here...\n",
    "\n",
    "\n",
    "\n"
   ]
  },
  {
   "cell_type": "markdown",
   "id": "0ca9c7cd-5863-4dff-b16a-4308fdc44ab8",
   "metadata": {},
   "source": [
    "Otra herramienta útil de PyNeb es la exploración de los posibles cocientes de línea asociados a valores de densidad y temperatura dados. Para ello se puede usar la clase EmisGrid.\n",
    "\n",
    "Explora la clase EmisGrid que nos permite calcular la emisión esperada de diferentes líneas en función de los valores de densidad y temperatura en una matriz rectangular de posibles valores. \n",
    "Para ello puedes consultar el tutorial 7 de la documentación de PyNeb:\n",
    "https://github.com/Morisset/PyNeb_devel/blob/master/docs/Notebooks/PyNeb_manual_7.ipynb\n",
    "\n",
    "<font color=\"red\">Para hacer</font>\n",
    "\n",
    "Vamos a utilizar dos líneas de [SII] para entender cuáles podrían ser los cocientes típicos. Dibuja el diagrama de contornos que muestra la emisividad del cociente entre las siguientes líneas:\n",
    "\n",
    "[SII](2 -> 1) / [SII](3 -> 1)\n",
    "\n",
    "Para ello tendrás que definir un objeto de la clase EmisGrid y usar el método \"plotContours\" para el cociente que se pide. Recuerda que hay que escribir ese cociente en el formato que requiere el parámetro to_eval.\n"
   ]
  },
  {
   "cell_type": "code",
   "execution_count": 84,
   "id": "64ee76dc-4838-4fbf-b035-e8f9ca1ec9a2",
   "metadata": {},
   "outputs": [],
   "source": [
    "# Your code here...\n",
    "\n",
    "\n",
    "\n"
   ]
  },
  {
   "cell_type": "markdown",
   "id": "6a2dfee7-3d34-4dc0-a15e-5aee79746e8a",
   "metadata": {},
   "source": [
    "### Diagramas de diagnóstico"
   ]
  },
  {
   "attachments": {},
   "cell_type": "markdown",
   "id": "b6a6854c-f548-41d8-b049-c375b08a3dd1",
   "metadata": {},
   "source": [
    "Se proporciona un fichero R1_spectrum_fluxes.dat con líneas de emisión y sus errores. Usaremos estos datos para hacer un diagrama de diagnóstico con las líneas disponibles que nos permita estimar valores posibles de densidad y temperatura compatible con las líneas de nuestro espectro.\n",
    "\n",
    "<font color=\"red\">Para hacer</font>\n",
    "\n",
    "- Normalizar los datos a H_beta = 100 como se explica en el guión\n",
    "- Leer los datos normalizados para generar una \"observación\" en PyNeb\n",
    "- Generar un objeto de la clase pn.Diagnostics() y añadirle la información de nuestra observación.\n",
    "- Generar el diagrama de diagnóstico tal y como se muestra en el tutorial 7 de PyNeb\n",
    "- Responde a las siguientes preguntas:\n",
    "1) ¿Qué cocientes de líneas habrían podido ser potencialmente usados por PyNeb? ¿Qué cocientes de línea ha utilizado PyNeb? \n",
    "¿Qué rangos aproximados de densidad y temperatura son compatible con las líneas? ¿Tenemos mejor capacidad para predecir la densidad o la temperatura?\n",
    "Dados los resultados, ¿qué harías observacionalmente para poder tener una mejor determinación de la densidad de electrones?\n"
   ]
  },
  {
   "cell_type": "code",
   "execution_count": null,
   "id": "4ac50c1b-2678-4679-97b6-ae12ffe5c33d",
   "metadata": {},
   "outputs": [],
   "source": [
    "obs = pn.Observation()\n",
    "\n",
    "# Your code here...\n",
    "obs.readData(??? fileformat=\"???\", corrected=True, errIsRelative=True)\n",
    "\n",
    "\n",
    "\n",
    "diags = pn.Observation()\n",
    "# Your code here...\n",
    "\n"
   ]
  }
 ],
 "metadata": {
  "kernelspec": {
   "display_name": "Python 3 (ipykernel)",
   "language": "python",
   "name": "python3"
  },
  "language_info": {
   "codemirror_mode": {
    "name": "ipython",
    "version": 3
   },
   "file_extension": ".py",
   "mimetype": "text/x-python",
   "name": "python",
   "nbconvert_exporter": "python",
   "pygments_lexer": "ipython3",
   "version": "3.11.6"
  }
 },
 "nbformat": 4,
 "nbformat_minor": 5
}
