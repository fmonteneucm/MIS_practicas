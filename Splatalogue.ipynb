{
 "cells": [
  {
   "cell_type": "code",
   "execution_count": 2,
   "id": "6d0b09c8-2498-45ad-b734-1cc95b3b542c",
   "metadata": {},
   "outputs": [],
   "source": [
    "from astroquery.splatalogue import Splatalogue\n",
    "from astropy import units as u\n",
    "import matplotlib.pyplot as plt\n",
    "import numpy as np\n",
    "from astropy import constants"
   ]
  },
  {
   "cell_type": "markdown",
   "id": "d0e36131-eaf9-41b9-bb65-5f06da680323",
   "metadata": {},
   "source": [
    "## Parte 1. Escalera J- para la molécula de CO. Determinación de la constante rotacional $B_0$"
   ]
  },
  {
   "cell_type": "markdown",
   "id": "505d915c-9539-4943-bb14-c78ad1a12ed0",
   "metadata": {},
   "source": [
    "1. Tener a mano las diapositivas del Tema 5 (Transiciones moleculares, páginas 19-29)"
   ]
  },
  {
   "cell_type": "markdown",
   "id": "3e1832fa-54da-4499-a5e9-a1c3d8677958",
   "metadata": {},
   "source": [
    "2. Buscar en astroquery/Splatalogue todas las transiciones rotacionales (en el estado vibracional fundamental v=0) de la molécula de monóxido de Carbono comprendidas entre 100 GHz y 3 THz. Recordemos de teoría las diferencias en energía para excitar los modos vibracionales y los rotacionales.\n",
    "\n",
    "(Ayuda: Usaremos un límite de $E_{ul}$ / $k_{B}$ = 300 K en nuestra búsqueda. Nos restringiremos a los datos correspondientes a la base de datos de CDMS)\n"
   ]
  },
  {
   "cell_type": "code",
   "execution_count": 4,
   "id": "8b94d9f4-38af-44f7-bfb0-d69d2f35d70a",
   "metadata": {},
   "outputs": [],
   "source": [
    "# CO_all = Splatalogue.query_lines(..."
   ]
  },
  {
   "cell_type": "code",
   "execution_count": null,
   "id": "1b47586a-10f6-4e57-a02f-e6109420d6f4",
   "metadata": {},
   "outputs": [],
   "source": []
  },
  {
   "cell_type": "markdown",
   "id": "8122e1d3-4a3d-4ba2-9c53-fc54e5359aaf",
   "metadata": {},
   "source": [
    "Deberías haber obtenido la colección de transiciones permitidas J->(J-1), con J = 1, ..., 9.\n",
    "\n",
    "3. Haz un gráfico donde esté J en el eje horizontal y las energías de los niveles superiores $E_J$ de cada transición ($E_U$) en el eje vertical (en Kelvin). Según la teoría, ¿qué dependencia funcional esperas encontrar? Calcula la constante rotacional $B_0$ y verifica que se cumple dicha dependencia.\n",
    "\n",
    "(Ayuda: Necesitarás importar algunas constantes fundamentales de astropy.constants)"
   ]
  },
  {
   "cell_type": "code",
   "execution_count": null,
   "id": "4009b0a6-cd00-4a85-bbd1-f967d0dad5f2",
   "metadata": {},
   "outputs": [],
   "source": [
    "J = np.arange(1,10)   # J- values to express trantions J -> J-1 (from 1->0 to 9->8)\n",
    "\n",
    "# E_J = \n",
    "\n",
    "# B0 = ..."
   ]
  },
  {
   "cell_type": "code",
   "execution_count": null,
   "id": "66418a0f-5827-4cc9-a9f8-a779d08c3c64",
   "metadata": {},
   "outputs": [],
   "source": [
    "plt.figure(1)\n",
    "\n",
    "#plt.plot(J,...,marker='+',color='b')\n",
    "#plt.plot(Jcont,EJ,ls='-',color='red')\n",
    "\n",
    "plt.xlabel('J')\n",
    "plt.ylabel(r'E$_J$ (K)')"
   ]
  },
  {
   "cell_type": "markdown",
   "id": "bdd6d299-a4d1-4f3c-87cc-3964bbed7e88",
   "metadata": {},
   "source": [
    "## Parte 2. Leer espectro de Orion-KL con HIFI@Herschel y visualizar posibles emisiones de isotopólogos de CO"
   ]
  },
  {
   "cell_type": "markdown",
   "id": "e836dd8c-7830-45b5-9f36-83df66bda9f1",
   "metadata": {},
   "source": [
    "Primero leemos el espectro del fichero adjunto y creamos vectores de frecuencia (en GHz) y el flujo (en realidad es temperatura de antena en K):"
   ]
  },
  {
   "cell_type": "code",
   "execution_count": null,
   "id": "fb2f622b-5d9d-4511-a1b9-88337a79f864",
   "metadata": {},
   "outputs": [],
   "source": [
    "datafile = 'Orion-KL-Herschel-HIFI.txt'\n",
    "\n",
    "# data = np.loadtxt(... \n",
    "# nu = ...\n",
    "# T_a = ..."
   ]
  },
  {
   "cell_type": "markdown",
   "id": "3c16da63-41d9-4213-acd6-152e20ca10ac",
   "metadata": {},
   "source": [
    "Podemos dibujar el espectro y obtener los extremos en frecuencia del mismo"
   ]
  },
  {
   "cell_type": "code",
   "execution_count": null,
   "id": "4f6b5a15-55e6-44a0-8ad1-9e1b064d37de",
   "metadata": {},
   "outputs": [],
   "source": []
  },
  {
   "cell_type": "code",
   "execution_count": null,
   "id": "58cc5713-67c0-484c-804c-dcaccf829724",
   "metadata": {},
   "outputs": [],
   "source": []
  },
  {
   "cell_type": "code",
   "execution_count": null,
   "id": "a266e51e-8e35-4839-b2cd-fd5c874ea067",
   "metadata": {},
   "outputs": [],
   "source": []
  },
  {
   "cell_type": "markdown",
   "id": "ccac2849-db9c-4df6-8be9-b693fa3f06d5",
   "metadata": {},
   "source": [
    "4. Buscamos en Splatalogue todas las transiciones rotacionales de la molécula de monóxido de carbono y sus isotopólogos (chemical_name=\"Carbon Monoxide\") comprendidas entre las frecuencias que abarca el espectro. Encuentra únicamente las transiciones que aparecen en la lista de 'SLAIM'.\n"
   ]
  },
  {
   "cell_type": "code",
   "execution_count": null,
   "id": "42d66a5b-da5a-4762-8468-4ad97a031e5f",
   "metadata": {},
   "outputs": [],
   "source": [
    "#CO_HIFI = Splatalogue.query_lines(..."
   ]
  },
  {
   "cell_type": "markdown",
   "id": "1573df61-12a9-4a68-a1cf-ecf673a96500",
   "metadata": {},
   "source": [
    "5. Para cada transición que encuentres, haz un gráfico del espectro de HIFI centrado en cada transición y que cubra 3 GHz de ancho en el eje X. Dibuja una línea vertical a la frecuencia de la transición encontrada y visualiza si existe detección en el espectro a esa frecuencia. Identifica las 3 transiciones más brillantes en el espectro de Orión KL."
   ]
  },
  {
   "cell_type": "code",
   "execution_count": null,
   "id": "2a048456-581d-43ec-a0b2-9ab5bbad237a",
   "metadata": {},
   "outputs": [],
   "source": []
  },
  {
   "cell_type": "code",
   "execution_count": null,
   "id": "211da110-3713-4a16-9845-917f7444125f",
   "metadata": {},
   "outputs": [],
   "source": [
    "# Esto es un ejemplo de como se podría visualizar uno de esos gráficos. Puedes usar la salida de splatalogue para hacer un \n",
    "# bucle que haga todos los gráficos.\n",
    "\n",
    "# molec_trans1 = \n",
    "# freq_trans1 =  \n",
    "\n",
    "fig = plt.figure(i)\n",
    "ax = fig.add_axes([0,0,1,1])\n",
    "frmin = freq_trans1-1.5\n",
    "frmax = freq_trans1+1.5\n",
    "ax.plot(nu,T_a)\n",
    "ax.set_xlim(frmin,frmax)\n",
    "ax.axvline(freq_trans1,ls='--',color='red')\n",
    "plt.title(f'{molec_trans1}')"
   ]
  },
  {
   "cell_type": "markdown",
   "id": "401ff531-751d-4201-a94a-ca1add899469",
   "metadata": {},
   "source": [
    "(Ayuda: Con la salida de splatalogue puedes crear una lista de las transiciones encontradas en la columna \"Species\" que obtengas. También puedes tener las frecuencias en la columna \"Freq-GHz(rest frame,redshifted)\""
   ]
  },
  {
   "cell_type": "code",
   "execution_count": null,
   "id": "6339a322-5c2c-4b73-995a-a709efd6f3ff",
   "metadata": {},
   "outputs": [],
   "source": []
  }
 ],
 "metadata": {
  "kernelspec": {
   "display_name": "Python 3 (ipykernel)",
   "language": "python",
   "name": "python3"
  },
  "language_info": {
   "codemirror_mode": {
    "name": "ipython",
    "version": 3
   },
   "file_extension": ".py",
   "mimetype": "text/x-python",
   "name": "python",
   "nbconvert_exporter": "python",
   "pygments_lexer": "ipython3",
   "version": "3.11.6"
  }
 },
 "nbformat": 4,
 "nbformat_minor": 5
}
