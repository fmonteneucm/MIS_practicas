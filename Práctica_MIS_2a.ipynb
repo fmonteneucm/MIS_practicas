{
 "cells": [
  {
   "cell_type": "code",
   "execution_count": null,
   "id": "308b465f-926b-479d-b06a-c157e3b3101c",
   "metadata": {},
   "outputs": [],
   "source": [
    "%matplotlib inline\n",
    "import pyneb as pn\n",
    "import numpy as np\n",
    "import matplotlib.pyplot as plt\n",
    "import random"
   ]
  },
  {
   "cell_type": "markdown",
   "id": "c4ebf306-410b-4d26-9ec5-ce89c3f24f37",
   "metadata": {},
   "source": [
    "## Funciones auxiliares"
   ]
  },
  {
   "cell_type": "code",
   "execution_count": null,
   "id": "36c2ae80-d348-45d7-a23d-b1d3893a0fc3",
   "metadata": {},
   "outputs": [],
   "source": [
    "def select_ions(name):\n",
    "    # Calculate a unique selection index based on the name\n",
    "    selection_index = sum(ord(char) for char in name) % 10\n",
    "\n",
    "    # List with 9 ions\n",
    "    full_list = ['OII','OIV','NII', 'NIII','SII', 'SIII', 'SIV', 'ArIII', 'ClII']\n",
    "\n",
    "    # Create a sublist of 4 elements based on the selection index. Always include OIII\n",
    "    sublist = ['OIII']+[full_list[(selection_index + i) % 9] for i in range(3)]\n",
    "    random.shuffle(sublist)\n",
    "    \n",
    "    return sublist"
   ]
  },
  {
   "cell_type": "markdown",
   "id": "12f7a657-720d-4805-85c7-a0b5ad3009a8",
   "metadata": {},
   "source": [
    "## Práctica de uso del software PyNeb"
   ]
  },
  {
   "cell_type": "markdown",
   "id": "7c5e1b8b-72cb-4f6b-b57a-38de55356d6e",
   "metadata": {},
   "source": [
    "Vamos a familiarizarnos con la clase Atom que permite caracterizar un cierto ión y tiene acceso a todos los datos atómicos en diferentes fuentes. (Podéis encontrar más información en los tutoriales de Pyneb en la cuenta Github)\n",
    "https://github.com/Morisset/PyNeb_devel/blob/master"
   ]
  },
  {
   "cell_type": "markdown",
   "id": "166de344-e120-4a5f-b3ea-12fa03f02b52",
   "metadata": {},
   "source": [
    "Creamos un objeto Atom, que corresponda con el ión de OIII"
   ]
  },
  {
   "cell_type": "code",
   "execution_count": null,
   "id": "34497848-2847-4075-878d-ae6dbadbfe3e",
   "metadata": {},
   "outputs": [],
   "source": [
    "O3 = pn.Atom('O',3)"
   ]
  },
  {
   "cell_type": "markdown",
   "id": "64cbd5cc-a4a9-4126-91d9-53df03c9e8d6",
   "metadata": {},
   "source": [
    "Este objeto contiene todas las propiedades atómicas del ión correspondiente además de las probabilidades de transición entre niveles. Pyneb trabaja con representaciones de iones de hasta 6 niveles.  "
   ]
  },
  {
   "cell_type": "markdown",
   "id": "0ca9c7cd-5863-4dff-b16a-4308fdc44ab8",
   "metadata": {},
   "source": [
    "El comando help(O3) permite ver las propiedades y métodos que se pueden usar sobre el objeto, y que hayan sido documentadas por los autores."
   ]
  },
  {
   "cell_type": "code",
   "execution_count": null,
   "id": "64ee76dc-4838-4fbf-b035-e8f9ca1ec9a2",
   "metadata": {},
   "outputs": [],
   "source": [
    "#help(O3)"
   ]
  },
  {
   "cell_type": "markdown",
   "id": "6a2dfee7-3d34-4dc0-a15e-5aee79746e8a",
   "metadata": {},
   "source": [
    "Alternativamente, se puede usar dir() que permite ver los nombres de todas las propiedades y funciones que están disponibles."
   ]
  },
  {
   "cell_type": "code",
   "execution_count": null,
   "id": "1cb483a9-aa2f-4d43-b354-614374c7b743",
   "metadata": {},
   "outputs": [],
   "source": [
    "#dir(O3)"
   ]
  },
  {
   "cell_type": "markdown",
   "id": "b6a6854c-f548-41d8-b049-c375b08a3dd1",
   "metadata": {},
   "source": [
    "### Exploración de PyNeb y algunos de sus clases y métodos \n",
    "\n",
    "ATENCION: Todo lo que viene a continuación hay que hacerlo con los siguientes 4 iones:"
   ]
  },
  {
   "cell_type": "code",
   "execution_count": null,
   "id": "143b2e59-726d-4828-b166-e6bde246f67e",
   "metadata": {},
   "outputs": [],
   "source": [
    "nombre = \"Fran Montenegro\" # Escribe aquí tu nombre\n",
    "ions = select_ions(nombre)\n",
    "print(\"Hacer la práctica con los siguientes 4 iones: {0}\".format(ions))"
   ]
  },
  {
   "cell_type": "raw",
   "id": "0765783f-3f5e-4611-9659-a419eed0b514",
   "metadata": {},
   "source": [
    "\n",
    "\n",
    "\n"
   ]
  },
  {
   "cell_type": "markdown",
   "id": "d41eb991-47a3-42ba-be36-33c7ea7a09e3",
   "metadata": {},
   "source": [
    "Explorar el tutorial #1 del repositorio de PyNeb para ver la funcionalidad básica de cómo definimos un ión y tenemos acceso a todas sus propiedades.\n",
    "\n",
    "<font color=\"red\">Para hacer</font>\n",
    "\n",
    "a)\t¿Cuál de los 4 iones que tienes en tu lista necesita fotones de mayor energía para arrancar un electrón de su estado fundamental. En otras palabras ¿cuál tiene mayor potencial de ionización?"
   ]
  },
  {
   "cell_type": "code",
   "execution_count": null,
   "id": "b146aa5c-3b07-411d-b4d1-75b993a7c1e7",
   "metadata": {},
   "outputs": [],
   "source": [
    "## Your code here...\n",
    "\n",
    "\n",
    "\n",
    "print(f'El ión con mayor potencial de ionización es: XXXXXX')"
   ]
  },
  {
   "cell_type": "markdown",
   "id": "4778d932-002d-4986-bd9b-05bce2153ffa",
   "metadata": {},
   "source": [
    "<font color=\"red\">Para hacer</font>\n",
    "\n",
    "b)\tEncontrar y usar el método que permite ver (en modo texto) todas las transiciones del ión. También permite ver la densidad crítica de cada nivel, dada una cierta temperatura de los electrones. Encontrar dichos valores suponiendo una temperatura electrónica típica de una región HII de 10$^{4}$ K."
   ]
  },
  {
   "cell_type": "code",
   "execution_count": null,
   "id": "4b25509e-f2f6-4d69-8b64-da73676cb575",
   "metadata": {},
   "outputs": [],
   "source": [
    "## Your code here...\n",
    "\n"
   ]
  },
  {
   "cell_type": "markdown",
   "id": "d87e1646-60d7-40f2-8759-72618256319f",
   "metadata": {},
   "source": [
    "<font color=\"red\">Para hacer</font>\n",
    "\n",
    "c) Representar gráficamente los niveles del ión y las transiciones más probables mediante un diagrama de Grotrian. Encontrar en dicho gráfico el estado fundamental de mínima energía del ión (aparece en notación espectroscópica). A partir de él derivar los números cuánticos S, L y J y la configuración electrónica de dicho estado fundamental. ¿Cuál es la multiplicidad del nivel fundamental?"
   ]
  },
  {
   "cell_type": "code",
   "execution_count": null,
   "id": "f7324a8c-c105-4fce-bcfc-f3e8d3c05a36",
   "metadata": {},
   "outputs": [],
   "source": [
    "## Your code here...\n",
    "\n",
    "\n",
    "\n",
    "\n",
    "\n",
    "\n",
    "\n",
    "\n",
    "# Para el ión de OIII:\n",
    "L = 0\n",
    "S = 0\n",
    "J = 0\n",
    "print(f'Los números cuánticos para el estado fundamental del ión de {O3.atom} son: S={S}, L={J}, J={J}')\n",
    "print(f'El estado fundamental tiene multiplicidad: ')\n",
    "# Para el ión de ...:\n",
    "\n",
    "# Para el ión de ...:\n",
    "\n",
    "# Para el ión de ...:\n"
   ]
  },
  {
   "cell_type": "markdown",
   "id": "7fd6ade9-c33a-4678-946c-63b9a96a4a78",
   "metadata": {},
   "source": [
    "Con PyNeb puedes además visualizar las probabilidades de emisión espontánea A(j,i) para todas las transiciones de dicho ión. Recordemos de clase que $t_{ji}$ = 1/$A_{ji}$ es el tiempo de vida del ión en el nivel superior. Estos coeficientes se obtienen de varias fuentes de datos espectroscópicas de la literatura.\n",
    "\n",
    "<font color=\"red\">Para hacer</font>\n",
    "\n",
    "d) Representa gráficamente las probabilidades de emisión espontánea. Utiliza para ello la clase pn.DataPlot() y el método correspondiente para hacer dicho gráfico. (NOTA: Considera solamente un máximo de 5 niveles para cada ión).\n",
    "\n",
    "Asumamos que la densidad es suficientemente baja (como suele serlo en las nebulosas) para que no se produzca una desexcitación colisional. Esto implica que tras un cierto tiempo $t_{ji}$ en el estado excitado se producirá una emisión espontánea.\n",
    "Según este gráfico y la información recopilada anteriormente, ¿cuál sería la longitud de onda de la transición más probable para tus iones?\n",
    "\n",
    "NOTA: Si varias fuentes espectroscópicas proporcionan valores discrepantes de A(j,i), utiliza el valor que citen más fuentes."
   ]
  },
  {
   "cell_type": "code",
   "execution_count": null,
   "id": "b3ba9602-a18b-48de-9427-44a0b07ce6a4",
   "metadata": {},
   "outputs": [],
   "source": [
    "dp_O3 = pn.DataPlot('O', 3, NLevels=5)\n",
    "\n",
    "## Your code here\n",
    "\n",
    "\n",
    "\n",
    "\n",
    "print(f'Ión 1: La transición más probable es la transición (X - X) que emite fotones a longitud de onda XXXXXX')\n",
    "print(f'Ión 2: La transición más probable es la transición (X - X) que emite fotones a longitud de onda XXXXXX')\n",
    "print(f'Ión 3: La transición más probable es la transición (X - X) que emite fotones a longitud de onda XXXXXX')\n",
    "print(f'Ión 4: La transición más probable es la transición (X - X) que emite fotones a longitud de onda XXXXXX')"
   ]
  },
  {
   "cell_type": "markdown",
   "id": "68b72dfb-dcd0-4dde-8d11-2ceae5d129ac",
   "metadata": {},
   "source": [
    "\n",
    "\n",
    "En ocasiones tenemos espectros que no están calibrados de forma muy precisa en longitud de onda, por lo que el centro de la línea no coincide exactamente con la longitud de onda esperada, habiéndo un pequeño desplazamiento. Existe un método de la clase Atom que dada una longitud de onda nos dice la transición más cercana a esa longitud de onda correspondiente a ese ión.\n",
    "\n",
    "<font color=\"red\">Para hacer</font>\n",
    "\n",
    "e) Usar esa función en los 4 iones de tu lista para descubrir a qué ión y a qué transición podría corresponder una línea intensa en el espectro de nuestra nebulosa centrada en 496.2 nm. De acuerdo a tu selección, ¿cuál sería la longitud de onda correcta?"
   ]
  },
  {
   "cell_type": "code",
   "execution_count": null,
   "id": "ab36c52d-6a65-4235-90fa-30770eb41ad3",
   "metadata": {},
   "outputs": [],
   "source": [
    "## Your code here\n",
    "\n",
    "\n",
    "print(f'Tras revisar mis 4 iones, creo que la transición más probable es la del <ION> (X - X) que en teoría debe emitir a XXXXXXX nm')\n"
   ]
  },
  {
   "cell_type": "markdown",
   "id": "b1f15fb3-a206-4bbc-b797-739b8c2ad8f3",
   "metadata": {},
   "source": [
    "### Determinación de condiciones físicas "
   ]
  },
  {
   "cell_type": "markdown",
   "id": "12a996d6-307b-45c2-bfc6-3befa93e9dd6",
   "metadata": {},
   "source": [
    "PyNeb permite determinar las condiciones físicas (Temperatura electrónica y densidad de electrones) en el plasma de una región HII a partir de las intensidades de las líneas prohibidas (aurorales y nebulares), como las que has visto en los apartados anteriores.\n",
    "\n",
    "Como ejemplo, la temperatura electrónica se puede determinar mediante el cociente de líneas $R_{O3}$ (Osterbrock & Ferland, 2006), ya que se trata de transiciones que tienen energía similar, pero que ocupan diferentes niveles:\n",
    "\n",
    "$$ R_{O3} = \\frac{I(4959)+I(5007)}{I(4363)}$$\n",
    "\n",
    "Supongamos que tenemos un espectro de una nebulosa con las siguientes intensidades de línea (en unidades relativas):\n",
    "\n",
    "[OIII] (4 --> 2) = 1.045e-14\n",
    "\n",
    "[OIII] (4 --> 3) = 3.124e-14\n",
    "\n",
    "[OIII] (5 --> 4) = 1.047e-16\n",
    "\n",
    "<font color=\"red\">Para hacer</font>\n",
    "\n",
    "f) Utiliza el método de PyNeb cadecuado para el ión O3 que te permita calcular la temperatura electrónica usando el valor resultante del cociente $R_{O3}$, y asumiendo una densidad electrónica de $n_{e}$=1000 cm$^{-3}$. \n"
   ]
  },
  {
   "cell_type": "code",
   "execution_count": null,
   "id": "e1fa794d-d6ac-4fe2-adeb-466a39f0611c",
   "metadata": {},
   "outputs": [],
   "source": [
    "## Your code here\n",
    "n_e = 1000\n",
    "\n",
    "# ...\n",
    "\n",
    "T_e =    # Cambiar \n",
    "\n",
    "print(f'Para una densidad {n_e} cm^-3 el cociente de líneas dado indica una temperatura electrónica de: {T_e} K')"
   ]
  },
  {
   "cell_type": "markdown",
   "id": "231fe4d9-fe6b-4637-aeda-c41ba9a38d4c",
   "metadata": {},
   "source": [
    "<font color=\"red\">Para hacer</font>\n",
    "\n",
    "g) ¿Podría ser que la temperatura obtenida pueda depender de la densidad electrónica que hemos utilizado? Haz el mismo cálculo asumiendo valores de densidad menores: $n_{e}$ = 100 cm$^{-3}$ y $n_{e}$ = 10 cm$^{-3}$. ¿Obtienes temperaturas muy diferentes?"
   ]
  },
  {
   "cell_type": "code",
   "execution_count": null,
   "id": "091db926-a8bf-40a8-a052-150d4b1747fc",
   "metadata": {},
   "outputs": [],
   "source": [
    "## Your code here\n",
    "\n",
    "\n"
   ]
  },
  {
   "cell_type": "markdown",
   "id": "0d74f944-a48e-4545-9e57-fcdc3dd02ab4",
   "metadata": {},
   "source": [
    "<font color=\"red\">Para hacer</font>\n",
    "\n",
    "h) Vamos a hacer un gráfico con una curva que represente en el eje X el valor de $R_{O3}$ y en el eje Y pondremos t(O[III]) que es la temperatura electrónica determinada por PyNeb mediante este cociente (como hemos hecho antes), expresada en unidades de $10^4$ K  ( t(O[III]) = $T_{e}/10^4$ K). La curva debe cubrir todo el rango desde $R_{O3}$=10 hasta $R_{O3}$=1000. Al igual que antes, usaremos una densidad electrónica de 1000 $cm^{-3}$.\n",
    "\n",
    "NOTA: Tendrás que generar con numpy un vector R que cubra el rango adecuado\n",
    "\n",
    "i) Representa además en la misma gráfica las 2 curvas que corresponden a la temperaturas t(O[III]) pero calculadas con densidades distintas: $n_{e}$ = 100 cm$^{-3}$ y $n_{e}$ = 10 cm$^{-3}$. Averigua para todo el rango de $R_{O3}$ estudiado si los cambios de densidad resultan en  temperaturas muy diferentes, o si por el contrario se puede concluir que la temperatura obtenida no es prácticamente dependiente de la densidad del plasma."
   ]
  },
  {
   "cell_type": "code",
   "execution_count": null,
   "id": "bd777691-360e-46cf-8e44-a0c79bc40e97",
   "metadata": {},
   "outputs": [],
   "source": [
    "## Your code here\n",
    "\n",
    "\n",
    "\n",
    "fig1 = plt.figure(1,figsize=(10,8))\n",
    "plt.title(nombre)\n",
    "\n",
    "# Poner los vectores que has determinado antes\n",
    "plt.plot(   ,    , label='n_e'=1000, color='red',ls='-', marker='')\n",
    "plt.plot(   ,    , label='n_e'=100, color='blue',ls='-', marker='')\n",
    "plt.plot(   ,    , label='n_e'=10, color='green',ls='-', marker='')\n",
    "\n",
    "plt.xlabel('R_O3')\n",
    "plt.ylabel(r't[OIII] (10$^4$ K)')\n",
    "plt.legend()\n",
    "plt.xlim(10,1000)\n",
    "plt.show()"
   ]
  },
  {
   "cell_type": "markdown",
   "id": "dac5f036-2cb6-43ec-ba72-bbad738faa4f",
   "metadata": {},
   "source": []
  },
  {
   "cell_type": "code",
   "execution_count": null,
   "id": "4ac50c1b-2678-4679-97b6-ae12ffe5c33d",
   "metadata": {},
   "outputs": [],
   "source": []
  }
 ],
 "metadata": {
  "kernelspec": {
   "display_name": "Python 3 (ipykernel)",
   "language": "python",
   "name": "python3"
  },
  "language_info": {
   "codemirror_mode": {
    "name": "ipython",
    "version": 3
   },
   "file_extension": ".py",
   "mimetype": "text/x-python",
   "name": "python",
   "nbconvert_exporter": "python",
   "pygments_lexer": "ipython3",
   "version": "3.11.6"
  }
 },
 "nbformat": 4,
 "nbformat_minor": 5
}
