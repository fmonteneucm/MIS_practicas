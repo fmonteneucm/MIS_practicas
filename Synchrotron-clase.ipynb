{
 "cells": [
  {
   "cell_type": "code",
   "execution_count": 25,
   "id": "f00c28cf-eaf9-4a32-98eb-7e1d46811602",
   "metadata": {},
   "outputs": [],
   "source": [
    "import numpy as np\n",
    "import matplotlib.pyplot as plt\n",
    "from sklearn.linear_model import LinearRegression\n",
    "from astropy import units as u"
   ]
  },
  {
   "cell_type": "code",
   "execution_count": 26,
   "id": "b18e5229-6ae7-4a3a-81ea-80e25dfb1c75",
   "metadata": {},
   "outputs": [],
   "source": [
    "nombre = \"Francisco Montenegro\""
   ]
  },
  {
   "cell_type": "markdown",
   "id": "b1803cab-3109-470b-abf4-e5565fb65db8",
   "metadata": {},
   "source": [
    "### Functions to select frequency ranges in a SED"
   ]
  },
  {
   "cell_type": "code",
   "execution_count": 27,
   "id": "40032c62-5fe8-4156-8247-4535e081e6c5",
   "metadata": {},
   "outputs": [],
   "source": [
    "def select_frequency_window(f,s,minf,maxf):\n",
    "    \"\"\" \n",
    "    Given a frequency vector f and a flux vector s, it selects those SED points within minf and maxf,\n",
    "    both included.\n",
    "    \"\"\"\n",
    "    fout = []\n",
    "    sout = []\n",
    "    for i in range(len(f)):\n",
    "        if f[i]>=minf and f[i]<=maxf and (not np.isnan(s[i])):\n",
    "            fout.append(f[i].to('Hz').value)\n",
    "            sout.append(s[i].to('Jy').value)\n",
    "            \n",
    "    fout = np.array(fout).reshape(-1,1)*u.Hz\n",
    "    sout = np.array(sout).reshape(-1,1)*u.Jy\n",
    "    return fout,sout    \n",
    "\n",
    "def select_radio(freq,s,min_freq_radio=100*u.MHz,max_freq_radio=100*u.GHz):\n",
    "    # Tailored for radio, with default parameters for minf and maxf\n",
    "    freq_radio, s_radio = select_frequency_window(freq, s, min_freq_radio,max_freq_radio)\n",
    "    return freq_radio, s_radio\n",
    "\n",
    "def p_electrom_from_alfa(alpha):\n",
    "    return 1-2*alpha"
   ]
  },
  {
   "cell_type": "markdown",
   "id": "9f331df5-ebab-407d-9a0a-ac30b55d70e8",
   "metadata": {},
   "source": [
    "## Descarga de SED de dos radiofuentes en NED\n",
    "NASA Extragalactic Database - https://ned.ipac.caltech.edu\n",
    "\n",
    "## 3C295 y Cassiopeia A"
   ]
  },
  {
   "cell_type": "code",
   "execution_count": 28,
   "id": "b752098a-a437-44ff-9697-59be5be1ab29",
   "metadata": {},
   "outputs": [],
   "source": [
    "from astropy.io.votable import parse_single_table\n",
    "\n",
    "# Ejemplo para la sed de 3C273\n",
    "sed_3C273 = parse_single_table(\"3C273-votable1.vot\")\n"
   ]
  },
  {
   "cell_type": "code",
   "execution_count": 29,
   "id": "79ff1a59-5e4a-4298-b0e9-a39e2e498651",
   "metadata": {},
   "outputs": [
    {
     "name": "stdout",
     "output_type": "stream",
     "text": [
      "<FIELD ID=\"photo_col1\" datatype=\"int\" name=\"No.\" ucd=\"meta.number;phot.mag\"/>\n",
      "<FIELD ID=\"photo_col2\" arraysize=\"*\" datatype=\"char\" name=\"Observed Passband\" ucd=\"instr.bandpass\"/>\n",
      "<FIELD ID=\"photo_col3\" datatype=\"double\" name=\"Photometry Measurement\" ucd=\"phot\"/>\n",
      "<FIELD ID=\"photo_col4\" arraysize=\"*\" datatype=\"char\" name=\"Uncertainty\" ucd=\"stat.error;phot\"/>\n",
      "<FIELD ID=\"photo_col5\" arraysize=\"*\" datatype=\"char\" name=\"Units\" ucd=\"meta.unit;phot\"/>\n",
      "<FIELD ID=\"photo_col6\" datatype=\"double\" name=\"Frequency\" ucd=\"em.freq\" unit=\"Hz\"/>\n",
      "<FIELD ID=\"photo_col7\" datatype=\"double\" name=\"Flux Density\" ucd=\"phot\" unit=\"Jy\"/>\n",
      "<FIELD ID=\"photo_col8\" datatype=\"double\" name=\"Upper limit of uncertainty\" ucd=\"meta.code.error;stat.max\"/>\n",
      "<FIELD ID=\"photo_col9\" datatype=\"double\" name=\"Lower limit of uncertainty\" ucd=\"meta.code.error;stat.min\"/>\n",
      "<FIELD ID=\"photo_col10\" datatype=\"double\" name=\"Upper limit of Flux Density\" ucd=\"phot;stat.max\"/>\n",
      "<FIELD ID=\"photo_col11\" datatype=\"double\" name=\"Lower limit of Flux Density\" ucd=\"phot;stat.min\"/>\n",
      "<FIELD ID=\"photo_col12\" arraysize=\"*\" datatype=\"char\" name=\"NED Uncertainty\" ucd=\"stat.error;phot\"/>\n",
      "<FIELD ID=\"photo_col13\" arraysize=\"*\" datatype=\"char\" name=\"NED Units\" ucd=\"meta.unit;phot\"/>\n",
      "<FIELD ID=\"photo_col14\" arraysize=\"*\" datatype=\"char\" name=\"Refcode\" ucd=\"meta.bib.bibcode\"/>\n",
      "<FIELD ID=\"photo_col16\" arraysize=\"*\" datatype=\"char\" name=\"Significance\" ucd=\"meta.code.error\"/>\n",
      "<FIELD ID=\"photo_col17\" arraysize=\"*\" datatype=\"char\" name=\"Published frequency\" ucd=\"meta.ref;em.freq\"/>\n",
      "<FIELD ID=\"photo_col18\" arraysize=\"*\" datatype=\"char\" name=\"Frequency Mode\" ucd=\"meta.ref;em.freq;instr.setup\"/>\n",
      "<FIELD ID=\"photo_col19\" arraysize=\"*\" datatype=\"char\" name=\"Coordinates Targeted\" ucd=\"pos\"/>\n",
      "<FIELD ID=\"photo_col20\" arraysize=\"*\" datatype=\"char\" name=\"Spatial Mode\" ucd=\"phot.flux;instr.setup\"/>\n",
      "<FIELD ID=\"photo_col21\" arraysize=\"*\" datatype=\"char\" name=\"Qualifiers\" ucd=\"meta.note;instr.setup\"/>\n",
      "<FIELD ID=\"photo_col22\" arraysize=\"*\" datatype=\"char\" name=\"Comments\" ucd=\"meta.note;comment\"/>\n"
     ]
    }
   ],
   "source": [
    "for field in sed_3C273.iter_fields_and_params():\n",
    "    print(field)"
   ]
  },
  {
   "cell_type": "code",
   "execution_count": null,
   "id": "5406f6cd-7f85-459c-a8e2-256291c5ac36",
   "metadata": {},
   "outputs": [],
   "source": []
  },
  {
   "cell_type": "code",
   "execution_count": 31,
   "id": "86c5073d-9c04-439e-9238-c406642321d0",
   "metadata": {},
   "outputs": [],
   "source": [
    "# Extraemos los datos de la tabla que están almacenados en el atributo array\n",
    "data = sed_3C273.array"
   ]
  },
  {
   "cell_type": "code",
   "execution_count": 32,
   "id": "e07ef940-41ad-4289-9a45-3482c127bccc",
   "metadata": {},
   "outputs": [
    {
     "data": {
      "text/latex": [
       "$[2.43 \\times 10^{14},~2.43 \\times 10^{14},~1.8 \\times 10^{14},~1.8 \\times 10^{14},~1.39 \\times 10^{14},~1.39 \\times 10^{14},~8.94 \\times 10^{13},~8.94 \\times 10^{13},~8.94 \\times 10^{13},~8.44 \\times 10^{13},~8.44 \\times 10^{13},~6.67 \\times 10^{13},~6.67 \\times 10^{13},~6.51 \\times 10^{13},~6.51 \\times 10^{13},~6.51 \\times 10^{13},~5.23 \\times 10^{13},~5.23 \\times 10^{13},~3.81 \\times 10^{13},~3.81 \\times 10^{13},~2.59 \\times 10^{13},~2.59 \\times 10^{13},~2.59 \\times 10^{13},~1.36 \\times 10^{13},~1.36 \\times 10^{13},~1.36 \\times 10^{13},~1.27 \\times 10^{13},~1.27 \\times 10^{13},~1.07 \\times 10^{10},~5 \\times 10^{9},~4.85 \\times 10^{9},~4.85 \\times 10^{9},~4.83 \\times 10^{9},~2.7 \\times 10^{9},~1.4 \\times 10^{9},~1.4 \\times 10^{9},~7.5 \\times 10^{8},~4.08 \\times 10^{8},~4.08 \\times 10^{8},~3.65 \\times 10^{8},~1.78 \\times 10^{8},~1.78 \\times 10^{8},~73800000,~38000000,~26300000,~22300000] \\; \\mathrm{Hz}$"
      ],
      "text/plain": [
       "<Quantity [2.43e+14, 2.43e+14, 1.80e+14, 1.80e+14, 1.39e+14, 1.39e+14,\n",
       "           8.94e+13, 8.94e+13, 8.94e+13, 8.44e+13, 8.44e+13, 6.67e+13,\n",
       "           6.67e+13, 6.51e+13, 6.51e+13, 6.51e+13, 5.23e+13, 5.23e+13,\n",
       "           3.81e+13, 3.81e+13, 2.59e+13, 2.59e+13, 2.59e+13, 1.36e+13,\n",
       "           1.36e+13, 1.36e+13, 1.27e+13, 1.27e+13, 1.07e+10, 5.00e+09,\n",
       "           4.85e+09, 4.85e+09, 4.83e+09, 2.70e+09, 1.40e+09, 1.40e+09,\n",
       "           7.50e+08, 4.08e+08, 4.08e+08, 3.65e+08, 1.78e+08, 1.78e+08,\n",
       "           7.38e+07, 3.80e+07, 2.63e+07, 2.23e+07] Hz>"
      ]
     },
     "execution_count": 32,
     "metadata": {},
     "output_type": "execute_result"
    }
   ],
   "source": [
    "# Accedemos a la columna de frecuecias por su nombre en la lista de atributos anterior. Se llama \"Frequency\"\n",
    "# Vemos también que las unidades de frecuencia son unit=\"Hz\"\n",
    "freq=data['Frequency']*u.Hz\n",
    "freq"
   ]
  },
  {
   "cell_type": "code",
   "execution_count": 33,
   "id": "41db4e91-9312-4d7b-95b5-d40ca17beb28",
   "metadata": {},
   "outputs": [
    {
     "data": {
      "text/latex": [
       "$[0.0028,~0.00284,~0.00268,~0.00268,~0.00177,~0.00193,~0.000976,~0.00099,~0.00159,~0.000852,~0.000858,~0.000558,~0.000553,~0.000528,~0.000517,~0.000841,~0.000359,~0.00036,~0.000191,~0.000206,~0.000323,~{\\rm NaN},~0.000776,~{\\rm NaN},~{\\rm NaN},~{\\rm NaN},~{\\rm NaN},~{\\rm NaN},~0.2,~0.52,~0.393,~0.4,~0.434,~0.86,~1.67,~1.8,~3.1,~5.01,~5.14,~5.88,~8.7,~9,~15.2,~17,~33,~52] \\; \\mathrm{Jy}$"
      ],
      "text/plain": [
       "<Quantity [2.80e-03, 2.84e-03, 2.68e-03, 2.68e-03, 1.77e-03, 1.93e-03,\n",
       "           9.76e-04, 9.90e-04, 1.59e-03, 8.52e-04, 8.58e-04, 5.58e-04,\n",
       "           5.53e-04, 5.28e-04, 5.17e-04, 8.41e-04, 3.59e-04, 3.60e-04,\n",
       "           1.91e-04, 2.06e-04, 3.23e-04,      nan, 7.76e-04,      nan,\n",
       "                nan,      nan,      nan,      nan, 2.00e-01, 5.20e-01,\n",
       "           3.93e-01, 4.00e-01, 4.34e-01, 8.60e-01, 1.67e+00, 1.80e+00,\n",
       "           3.10e+00, 5.01e+00, 5.14e+00, 5.88e+00, 8.70e+00, 9.00e+00,\n",
       "           1.52e+01, 1.70e+01, 3.30e+01, 5.20e+01] Jy>"
      ]
     },
     "execution_count": 33,
     "metadata": {},
     "output_type": "execute_result"
    }
   ],
   "source": [
    "# Accedemos a la columna de flujos por su nombre en la lista de atributos anterior. Se llama \"Flux Density\"\n",
    "# Vemos también que las unidades de flujo son unit=\"Jy\"\n",
    "\n",
    "flux=data['Flux Density']*u.Jy\n",
    "flux"
   ]
  },
  {
   "cell_type": "markdown",
   "id": "5828540d-d023-4847-af55-84a521978a9a",
   "metadata": {},
   "source": [
    "Para hacer el ajuste vamos a seleccionar los puntos de la SED que pertenecen solamente a la parte radio del espectro, donde esperamos que se encuentre la contribución de la radiación sincrotrón que se comporte como una ley de potencias $S \\propto \\nu^{\\alpha}$"
   ]
  },
  {
   "cell_type": "code",
   "execution_count": 34,
   "id": "0c4f5308-b501-47a7-9f59-757e865a0857",
   "metadata": {},
   "outputs": [],
   "source": [
    "# Usamos la función definida arriba\n",
    "freq_radio, flux_radio = select_radio(freq,flux, min_freq_radio=100*u.MHz,max_freq_radio=4.5*u.GHz)\n",
    "\n",
    "# Calculamos los logaritmos para poder hacer un ajuste lineal y calcular la pendiente\n",
    "log_freq_radio = np.log10(freq_radio.value)\n",
    "log_flux_radio = np.log10(flux_radio.value)"
   ]
  },
  {
   "cell_type": "code",
   "execution_count": 36,
   "id": "a1c4fbda-9b48-4b80-9738-54e68f347809",
   "metadata": {},
   "outputs": [
    {
     "name": "stdout",
     "output_type": "stream",
     "text": [
      "[[0.86]\n",
      " [1.67]\n",
      " [1.8 ]\n",
      " [3.1 ]\n",
      " [5.01]\n",
      " [5.14]\n",
      " [5.88]\n",
      " [8.7 ]\n",
      " [9.  ]] Jy\n"
     ]
    }
   ],
   "source": [
    "print(flux_radio)"
   ]
  },
  {
   "cell_type": "code",
   "execution_count": 37,
   "id": "252d8d95-201c-45b4-a1c3-acf631b20864",
   "metadata": {},
   "outputs": [
    {
     "name": "stdout",
     "output_type": "stream",
     "text": [
      "[[2.70e+09]\n",
      " [1.40e+09]\n",
      " [1.40e+09]\n",
      " [7.50e+08]\n",
      " [4.08e+08]\n",
      " [4.08e+08]\n",
      " [3.65e+08]\n",
      " [1.78e+08]\n",
      " [1.78e+08]] Hz\n"
     ]
    }
   ],
   "source": [
    "print(freq_radio)"
   ]
  },
  {
   "cell_type": "code",
   "execution_count": null,
   "id": "469e384d-11b8-4912-83a8-1e83254f1ac0",
   "metadata": {},
   "outputs": [],
   "source": [
    "# Calculamos la pendiente del ajuste de log_flux_radio frente a log_freq_radio\n",
    "\n",
    "# alpha = "
   ]
  },
  {
   "cell_type": "markdown",
   "id": "afbbd74e-69ac-45da-b7bb-f6c9a687df87",
   "metadata": {},
   "source": [
    "Como sabemos que la relación entre \n",
    "\n",
    "El indice espectral de energía de los electrones es N(E) = E$^{-p}$ dE\n",
    "\n",
    "Para calcularlo usamos la función definida arriba p = 1-2$\\alpha$"
   ]
  },
  {
   "cell_type": "code",
   "execution_count": null,
   "id": "198201b0-5262-4446-ab13-68dcdc9befd3",
   "metadata": {},
   "outputs": [],
   "source": [
    "# p = 1 - 2 * alpha\n",
    "\n"
   ]
  },
  {
   "cell_type": "code",
   "execution_count": 44,
   "id": "9e82a668-cb3e-4417-95a0-8a8b81b2a245",
   "metadata": {},
   "outputs": [
    {
     "data": {
      "text/plain": [
       "Text(0, 0.5, 'log(Flux [Jy])')"
      ]
     },
     "execution_count": 44,
     "metadata": {},
     "output_type": "execute_result"
    },
    {
     "data": {
      "image/png": "[encoded data removed]",
      "text/plain": [
       "<Figure size 720x576 with 1 Axes>"
      ]
     },
     "metadata": {
      "needs_background": "light"
     },
     "output_type": "display_data"
    }
   ],
   "source": [
    "plt.figure(figsize=(10,8))\n",
    "plt.scatter(np.log10(freq.value),np.log10(flux.value),marker = '.')\n",
    "plt.xlabel('log(Freq [Hz])',fontsize=14)\n",
    "plt.ylabel('log(Flux [Jy])',fontsize=14)\n",
    "\n",
    "# Dibujamos también el modelo del ajuste lineal y ponemos como título del gráfico el valor de alpha\n"
   ]
  },
  {
   "cell_type": "code",
   "execution_count": null,
   "id": "f2239194-7f7c-4656-8a79-c67212848bc7",
   "metadata": {},
   "outputs": [],
   "source": []
  }
 ],
 "metadata": {
  "kernelspec": {
   "display_name": "Python 3 (ipykernel)",
   "language": "python",
   "name": "python3"
  },
  "language_info": {
   "codemirror_mode": {
    "name": "ipython",
    "version": 3
   },
   "file_extension": ".py",
   "mimetype": "text/x-python",
   "name": "python",
   "nbconvert_exporter": "python",
   "pygments_lexer": "ipython3",
   "version": "3.9.12"
  }
 },
 "nbformat": 4,
 "nbformat_minor": 5
}
