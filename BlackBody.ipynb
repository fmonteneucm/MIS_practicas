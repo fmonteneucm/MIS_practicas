{
 "cells": [
  {
   "cell_type": "code",
   "execution_count": null,
   "id": "0ba37b32-35dd-4078-8267-83125bd01e8d",
   "metadata": {
    "tags": []
   },
   "outputs": [],
   "source": [
    "import numpy as np\n",
    "import matplotlib.pyplot as plt\n",
    "from scipy.integrate import quad\n",
    "from scipy.special import zeta"
   ]
  },
  {
   "cell_type": "code",
   "execution_count": null,
   "id": "e47cfeda-c94e-4800-94b6-36f22ccbc4a4",
   "metadata": {},
   "outputs": [],
   "source": [
    "from astropy import units as u\n",
    "from astropy.modeling import models"
   ]
  },
  {
   "cell_type": "code",
   "execution_count": null,
   "id": "b5da7dee-7e76-4564-bcc8-d44457edee4d",
   "metadata": {},
   "outputs": [],
   "source": [
    "nombre_alumno = \"Francisco Montenegro\""
   ]
  },
  {
   "cell_type": "markdown",
   "id": "f88a9692-e786-496d-9dd2-4eda5f17701a",
   "metadata": {
    "tags": []
   },
   "source": [
    "## Constantes físicas importadas de Astropy (Sistema Internacional)\n",
    "(ver https://docs.astropy.org/en/stable/constants/index.html)"
   ]
  },
  {
   "cell_type": "code",
   "execution_count": null,
   "id": "77aff8b5-cb47-4d02-ac35-430bc4c96953",
   "metadata": {},
   "outputs": [],
   "source": [
    "from astropy.constants import c,h,k_B"
   ]
  },
  {
   "cell_type": "code",
   "execution_count": null,
   "id": "f5b7898c-0444-4e09-a338-630aa247ae02",
   "metadata": {},
   "outputs": [],
   "source": [
    "print(c.si)"
   ]
  },
  {
   "cell_type": "code",
   "execution_count": null,
   "id": "306b41f7-bdd8-4a5f-bf86-f628f4e6707e",
   "metadata": {},
   "outputs": [],
   "source": [
    "print(h.si)"
   ]
  },
  {
   "cell_type": "code",
   "execution_count": null,
   "id": "53f8f36c-381f-4435-98da-442f92440eca",
   "metadata": {},
   "outputs": [],
   "source": [
    "print(k_B.si)"
   ]
  },
  {
   "cell_type": "markdown",
   "id": "99037efc-8251-4924-b6bc-5cc347c579f7",
   "metadata": {
    "jp-MarkdownHeadingCollapsed": true,
    "tags": []
   },
   "source": [
    "## Diccionarios con los intervalos de frecuencia/longitud de onda por banda del espectro"
   ]
  },
  {
   "cell_type": "code",
   "execution_count": null,
   "id": "aa5f1e02-3094-4a76-9568-3df5cb53b7bb",
   "metadata": {},
   "outputs": [],
   "source": [
    "vis_color_ranges = {'red':[625*u.nm,750*u.nm],\n",
    "               'orange':[590*u.nm,625*u.nm],\n",
    "               'yellow':[565*u.nm,590*u.nm],\n",
    "               'green':[500*u.nm,565*u.nm],\n",
    "               'cyan':[485*u.nm,500*u.nm],\n",
    "               'blue':[450*u.nm,485*u.nm],\n",
    "               'violet':[380*u.nm,450*u.nm]\n",
    "               }\n",
    "\n",
    "nir_color_ranges = {'J':[1170*u.nm,1330*u.nm],\n",
    "                    'H':[1490*u.nm,1780*u.nm],\n",
    "                    'K':[2030*u.nm,2370*u.nm]\n",
    "                }\n",
    "\n",
    "color_dict = {'red':'red',\n",
    "               'orange':'orange',\n",
    "               'yellow':'yellow',\n",
    "               'green':'green',\n",
    "               'cyan':'cyan',\n",
    "               'blue':'blue',\n",
    "               'violet':'violet',\n",
    "              'J':'darkred',\n",
    "              'H':'maroon',\n",
    "              'K':'brown'\n",
    "}"
   ]
  },
  {
   "cell_type": "markdown",
   "id": "00d3ccd9-54ec-4df2-9c93-dcec4446b2a8",
   "metadata": {
    "jp-MarkdownHeadingCollapsed": true,
    "tags": []
   },
   "source": [
    "## Funciones auxiliares"
   ]
  },
  {
   "cell_type": "code",
   "execution_count": null,
   "id": "48348c32-9646-485c-956a-7043411a2b25",
   "metadata": {},
   "outputs": [],
   "source": [
    "def lambda2nu(lam):\n",
    "    return (c/lam).value \n",
    "\n",
    "def nu2lambda(nu):\n",
    "    return (c/nu).value\n",
    "\n",
    "def custom(name):\n",
    "    return 10*ord(name[0])-ord(name[-1])\n",
    "\n",
    "def relative_delta(a1,a2):\n",
    "    \"\"\" Given an interval [a1,a2] it returns the interval width (in percentage) \n",
    "    referred to the mid point in the interval.\n",
    "    \"\"\"\n",
    "    interval = a2-a1\n",
    "    mid_point = 0.5*(a1+a2)\n",
    "    return 100*interval/mid_point\n",
    "\n",
    "def generate_lambda_vector():\n",
    "    \"\"\" We generate a vector with wavelenghts that can be used over several decades in frequency (log scale)\n",
    "    \"\"\"\n",
    "    return np.array([np.power(10,(1.5*i-1000)/78) for i in range(950)])*u.m\n",
    "\n",
    "def generate_nu_vector():\n",
    "    \"\"\" We generate a vector with frequencies that can be used over several decades (log scale)\n",
    "    \"\"\"\n",
    "    return np.array([np.power(10,(i-9)/58.0) for i in range(1000)])*u.Hz\n",
    "\n",
    "def integrand3(x):\n",
    "    \"\"\" Special integral related to Riemmann's zeta function\n",
    "    \"\"\"\n",
    "    return x**3/(np.exp(x)-1)\n",
    "\n",
    "def integrand2(x):\n",
    "    \"\"\" Special integral related to Riemmann's zeta function\n",
    "    \"\"\"\n",
    "    return x**2/(np.exp(x)-1)"
   ]
  },
  {
   "cell_type": "code",
   "execution_count": null,
   "id": "10caf1ff-2929-4fe9-85a2-5b7eeb605bcc",
   "metadata": {},
   "outputs": [],
   "source": [
    "r = custom(nombre_alumno) \n",
    "print(r)"
   ]
  },
  {
   "cell_type": "markdown",
   "id": "aa5e5326-36f4-4481-bfb2-96409c9ae71f",
   "metadata": {
    "tags": []
   },
   "source": [
    "## Ley de Planck para la emisión de un cuerpo negro\n",
    "\n",
    "La radiancia espectral (energía emitida por unidad de tiempo, por unidad de ángulo sólido y por unidad de frecuencia) de un cuerpo negro a temperatura T viene dada por:\n",
    "\n",
    "$$B_{\\nu}(T) = \\frac{2h\\nu^3}{c^2} \\frac{1}{e^{h\\nu/kT}-1} \\qquad  [W m^{-2} Hz^{-1} sr^{-1}]$$ \n",
    "\n",
    "Si queremos expresar la radiancia espectral en función de la longitud de onda, no podemos simplemente sustituir $\\nu=c/\\lambda$ en la formula anterior, ya que $B_{\\nu}$ y $B_{\\lambda}$ son magnitudes diferentes con unidades diferentes. Se relacionan teniendo en cuenta que dado un incremento espectral $d\\lambda$, el incremento de energía radiada es el mismo tanto expresado en $\\lambda$ como en $\\nu$ pero con signo cambiado por ser ambas magnitudes recíprocas ($\\lambda\\,\\nu$ = c):\n",
    "\n",
    "$$B_{\\lambda}\\,d\\lambda = -B_{\\nu}\\,d\\nu $$\n",
    "\n",
    "Por tanto en función de $\\lambda$ tendremos:\n",
    "\n",
    "$$B_{\\lambda}(T) = \\frac{2hc^2}{\\lambda^5} \\frac{1}{e^{hc/kT\\lambda}-1} \\qquad  [W m^{-2} m^{-1} sr^{-1}]$$ \n",
    "\n",
    "##### <font color='red'>Para hacer (a)</font>\n",
    "Obtener B$_{\\lambda}$ a partir de B$_{\\nu}$ (o al revés), a partir de la igualdad anterior (entregar en papel)."
   ]
  },
  {
   "cell_type": "code",
   "execution_count": null,
   "id": "e51fbcd3-565d-4a4c-bf72-a60925b95caf",
   "metadata": {},
   "outputs": [],
   "source": [
    "def planck_law(nu,T):\n",
    "    \"\"\" Spectral radiance (intensity) by a Black body at temperature T, as a function of frequency\n",
    "    \"\"\"\n",
    "    num = 2*h*np.power(nu,3)/np.power(c,2)\n",
    "    denom = np.exp(h*nu/(k_B*T))-1\n",
    "    return (num/denom)/u.sr\n",
    "\n",
    "def planck_law_lam(lam,T):\n",
    "    \"\"\" Spectral radiance (intensity) by a Black body at temperature T, as a function of wavelength\n",
    "    \"\"\"\n",
    "    num = 2*h*np.power(c,2)/np.power(lam,5)\n",
    "    denom = np.exp(h*c/(k_B*T*lam))-1\n",
    "    return (num/denom)/u.sr "
   ]
  },
  {
   "cell_type": "markdown",
   "id": "d10fcc61-46ae-4043-a2ed-fe22d0d93c76",
   "metadata": {
    "tags": []
   },
   "source": [
    "\n"
   ]
  },
  {
   "cell_type": "markdown",
   "id": "5ed13e69-a43a-479a-be97-17b7f02e361b",
   "metadata": {
    "tags": []
   },
   "source": [
    "#### Parte 1. \n",
    "Vamos a comprobar que la energía radiada en un incremento espectral pequeño $[\\lambda_{1}, \\lambda_{1}+\\delta\\lambda]$ es la misma utilizando las fórmulas anteriores de $B_{\\lambda}(T)$ y de $B_{\\nu}(T)$.\n",
    "\n",
    "Calcular para qué valor *relativo* de $\\delta\\lambda$ conseguimos que la enegía radiada se asemeje con ambas expresiones hasta en un valor menor de $10^{-3}$:"
   ]
  },
  {
   "cell_type": "code",
   "execution_count": null,
   "id": "b45def68-4708-4fdd-ba4f-1184a14409e0",
   "metadata": {},
   "outputs": [],
   "source": [
    "# Definimos la temperatura de una estrella (personalizada) que asumiremos emite como cuerpo negro\n",
    "# r es un valor diferente para cada uno de vosotros que hace cada una de vuestras estrellas única\n",
    "\n",
    "T_mystar = (5800+r)*u.K\n",
    "print(T_mystar)"
   ]
  },
  {
   "cell_type": "code",
   "execution_count": null,
   "id": "2b57b6e3-1ae5-47f3-abe6-33ab87635aff",
   "metadata": {},
   "outputs": [],
   "source": [
    "# Elegimos una longitud de onda de referencia donde mediremos nuestro intervalo, corresponde al color amarillo\n",
    "lambda1 = 580*u.nm  "
   ]
  },
  {
   "cell_type": "markdown",
   "id": "84e5e202-996c-4a7e-87ce-5a843c4d70b9",
   "metadata": {},
   "source": [
    "##### <font color='red'>Para hacer (b)</font>\n",
    "Disminuir el ancho de $\\delta\\lambda$ hasta que $B_{\\lambda}\\,\\delta\\lambda$ se aproxime a $B_{\\nu}\\,\\delta\\nu$ en menos de $10^{-3}$. "
   ]
  },
  {
   "cell_type": "code",
   "execution_count": null,
   "id": "a2b92551-72c4-42c2-830b-06c5d086d6a4",
   "metadata": {},
   "outputs": [],
   "source": [
    "# Empezamos probando con un intervalo de 100 nm y vamos bajando hasta llegar lo más cerca posible debajo de 1e-9\n",
    "delta_lambda = 100*u.nm"
   ]
  },
  {
   "cell_type": "code",
   "execution_count": null,
   "id": "e36b5656-0607-46f7-8285-e0567e97ba43",
   "metadata": {},
   "outputs": [],
   "source": [
    "lambda2 = lambda1 + delta_lambda\n",
    "# Longitud de onda central del intervalo\n",
    "mid_lambda = lambda1 + delta_lambda/2.0\n",
    "\n",
    "# Calculamos el correspondiente intervalo escrito en frecuencias:\n",
    "nu1 = c/lambda1\n",
    "nu2 = c/lambda2\n",
    "delta_nu = nu2-nu1  \n",
    "mid_nu = (nu1 + nu2)/2.0\n",
    "\n",
    "print(f\"El intervalo en lambda es: [{lambda1:6.2f}, {lambda2:6.2f}]\")\n",
    "print(f\"El intervalo en nu es: [{nu1.to('THz'):6.2f}, {nu2.to('THz'):6.2f}]\")"
   ]
  },
  {
   "cell_type": "code",
   "execution_count": null,
   "id": "0ef20bd3-edd8-4f49-8473-d78f945d0b39",
   "metadata": {},
   "outputs": [],
   "source": [
    "# Calculamos el ancho del intervalo espectral en relación con la longitud de onda central\n",
    "relative_width_lambda = relative_delta(lambda1,lambda2)\n",
    "print(f\"El ancho del intervalo relativo a la longitud de onda central es de {relative_width_lambda:7.5f} %\")\n",
    "relative_width_nu = relative_delta(nu1,nu2)\n",
    "print(f\"El ancho del intervalo relativo a la frecuencia central es de {relative_width_nu:7.5f} %\")"
   ]
  },
  {
   "cell_type": "markdown",
   "id": "0cbff129-b76d-4314-95e9-ead721df03f8",
   "metadata": {},
   "source": [
    "##### <font color='red'>Para hacer (b)</font>\n",
    "\n",
    "Evaluar las funciones \\*planck_law_lam\\* y \\*planck_law\\* con los parámetros correspondientes. Sustituir las XXX"
   ]
  },
  {
   "cell_type": "code",
   "execution_count": null,
   "id": "e4fc7344-d132-4bd8-849b-a2e462000d49",
   "metadata": {},
   "outputs": [],
   "source": [
    "# Evaluamos la función de B_lambda en la mitad del intervalo y multiplicamos por el intervalo.\n",
    "e1=planck_law_lam(XXXX,XXXX)*delta_lambda \n",
    "e1 = e1.to('W / (m2 sr)')\n",
    "\n",
    "# Evaluamos la función B_nu en la mitad del intervalo y multiplicamos por el intervalo\n",
    "e2=planck_law(XXXX,XXXX)*delta_nu\n",
    "e2 = e2.to('W / (m2 sr)')\n",
    "\n",
    "print(f\"B_lambda * delta_lambda = {e1}\")\n",
    "print(f\"B_nu * delta_nu = {e2}\")"
   ]
  },
  {
   "cell_type": "code",
   "execution_count": null,
   "id": "fdd7b9ab-b5af-47cf-b13f-738f77379ba3",
   "metadata": {},
   "outputs": [],
   "source": [
    "diff = abs(e1+e2)    \n",
    "diff"
   ]
  },
  {
   "cell_type": "code",
   "execution_count": null,
   "id": "6d29c6f9-de11-4608-84ed-eec5962ef24f",
   "metadata": {},
   "outputs": [],
   "source": [
    "diff.value < 1e-3"
   ]
  },
  {
   "cell_type": "markdown",
   "id": "d83035ac-a847-4241-8dfb-dcfab9e62353",
   "metadata": {},
   "source": [
    "\n",
    "\n",
    "\n",
    "---\n",
    "\n",
    "\n",
    "\n"
   ]
  },
  {
   "cell_type": "markdown",
   "id": "9d8fa57e-d4cd-42c6-a023-6cf0c8a2a27b",
   "metadata": {
    "tags": []
   },
   "source": [
    "#### Parte 2. Vamos a visualizar la distribución espectral correspondiente a nuestra estrella/cuerpo-negro"
   ]
  },
  {
   "cell_type": "code",
   "execution_count": null,
   "id": "16c3d30e-3de7-4ae6-a37f-a4449875b4b7",
   "metadata": {},
   "outputs": [],
   "source": [
    "# Generamos un vector de longitudes de onda que nos sirva para una escala logrítmica\n",
    "lam = generate_lambda_vector()\n",
    "lam"
   ]
  },
  {
   "cell_type": "markdown",
   "id": "f320cb42-d8b3-46fd-a7fb-d8c5160ae658",
   "metadata": {},
   "source": [
    "##### <font color='red'>Para hacer (c)</font>\n",
    "\n",
    "Calcularemos la curva de Planck para nuestro vector de lambda. Luego calcularemos la longitud de onda del máximo de la curva, mediante la Ley de desplazamiento de Wien. Dicha ley nos dice la temperatura del cuerpo negro es inversamente proporcional a la longitud de onda del máximo. \n",
    "\n",
    "$$ \\lambda_{max} T = b$$\n",
    "\n",
    "Tendremos que importar de astropy la constante b (o como se llame) y usarla en la siguiente ecuación."
   ]
  },
  {
   "cell_type": "code",
   "execution_count": null,
   "id": "bf477bea-90e8-482e-80d7-501afdbaf9ef",
   "metadata": {},
   "outputs": [],
   "source": [
    "# Calculamos la curva de emisividad según la ley de Planck\n",
    "\n",
    "B_lam = planck_law_lam(lam,T_mystar)\n",
    "\n",
    "# De acuerdo a la ley de Wien: https://es.wikipedia.org/wiki/Ley_de_desplazamiento_de_Wien\n",
    "\n",
    "b = XXXXXX \n",
    "lam_peak = (b/T_mystar)\n",
    "\n",
    "print(f\"Lambda(peak) = {lam_peak.to('nm'):5.1f}\")"
   ]
  },
  {
   "cell_type": "code",
   "execution_count": null,
   "id": "6936136a-b6b1-4800-be0c-358b3569a3b6",
   "metadata": {},
   "outputs": [],
   "source": [
    "# Representamos la curva en función de la longitud de onda\n",
    "\n",
    "fig, ax = plt.subplots(figsize=(12,8))\n",
    "\n",
    "plt.plot(lam,B_lam,label=f'My Star ({T_mystar})',color='orange')\n",
    "\n",
    "plt.title(f\"Emission from {nombre_alumno}'s star\")\n",
    "ax.set_xlabel(r'$\\lambda$ [m]',fontsize=14)\n",
    "ax.set_ylabel(r'Radiance $\\,$ B$_{\\lambda}$ [W sr$^{-1}$ m$^{-1}$ m$^{-2}$]',fontsize=14)\n",
    "plt.legend()\n",
    "\n",
    "# Pintamos los colores del visible para ver donde cae el pico de emisión de nuestra estrella\n",
    "for k, v in vis_color_ranges.items():\n",
    "    lammin=(v[0].to('m')).value\n",
    "    lammax=(v[1].to('m')).value\n",
    "    plt.axvspan(xmin=lammin,xmax=lammax,color=color_dict[k],alpha=0.3)\n",
    "\n",
    "# Pintamos aproximadamente las bandas del infrarrojo cercano (J, H, K)\n",
    "\n",
    "for k, v in nir_color_ranges.items():\n",
    "    lammin=(v[0].to('m')).value\n",
    "    lammax=(v[1].to('m')).value\n",
    "    plt.axvspan(xmin=lammin,xmax=lammax,color=color_dict[k],alpha=0.3)\n",
    "    \n",
    "    \n",
    "# Marcamos la longitud de onda máxima de la curva de Planck\n",
    "plt.axvline(lam_peak.to(\"m\").value, ls='--',color='black')\n",
    "    \n",
    "# Restringimos el eje X al rango adecuado de longitud de onda que encuadra nuestra figura\n",
    "\n",
    "lambda_min_plot = (10*u.nm).to('m').value\n",
    "lambda_max_plot = (3*u.um).to('m').value\n",
    "\n",
    "ax.set_xlim([lambda_min_plot,lambda_max_plot])"
   ]
  },
  {
   "cell_type": "markdown",
   "id": "6d4bba85-b956-492b-9a17-ebeaa7379313",
   "metadata": {
    "tags": []
   },
   "source": [
    "## Aproximación a baja energía (Rayleigh-Jeans)\n",
    "\n",
    "Se cumplirá para los fotones menos energéticos emitidos por el cuerpo negro, para los cuales $h\\nu << kT$. Si hacemos $x = \\frac{h\\nu}{kT}$ esto es equivalente a decir que x << 1.  \n",
    "Si recordamos el desarrollo en serie de Taylor de la exponencial y nos quedamos en la aproximación a primer orden:\n",
    "\n",
    "$$ e^x = \\sum_{n=1}^{\\infty} \\frac{x^{n}}{n!} = 1 + x + \\frac{x^2}{2} + \\cdots \\approx 1 + x$$\n",
    "\n",
    "##### <font color='red'>Para hacer (d)</font>\n",
    "Llegar a la fórmula de Rayleigh-Jeans mediante la aproximación correspondiente y entregar. Después escribir la función de abajo con la fórmula correpondiente. "
   ]
  },
  {
   "cell_type": "code",
   "execution_count": null,
   "id": "de7216e5-f976-4b0e-bc0c-919144b25d57",
   "metadata": {},
   "outputs": [],
   "source": [
    "def rayleigh_jeans_law(nu,T):\n",
    "    \"\"\" Radiance by a Black body at temperature T, as a function of frequency. Low frequency approximation (Rayleigh-Jeans)\n",
    "    \"\"\"\n",
    "    return 0"
   ]
  },
  {
   "cell_type": "markdown",
   "id": "eb8730ad-93fe-4874-9bd6-27c7e679e997",
   "metadata": {
    "tags": []
   },
   "source": [
    "## Aproximación a alta energía (Ley de Wien)\n",
    "\n",
    "Se cumplirá para los fotones más energéticos emitidos por el cuerpo negro, para los cuales $h\\nu >> kT$. Nuevamente, si hacemos $x = \\frac{h\\nu}{kT}$ esto es equivalente a decir que x >> 1. \n",
    "\n",
    "$$B_{W}(\\nu, T) = \\frac{2h\\nu^3}{c^2} e^{-h\\nu/kT} $$\n",
    "\n",
    "##### <font color='red'>Para hacer (d)</font>\n",
    "Llegar a la fórmula de Wien mediante la aproximación correspondiente y entregar. Después escribir la función abajo."
   ]
  },
  {
   "cell_type": "code",
   "execution_count": null,
   "id": "2f63eef2-e65e-437d-a362-930ffc9e53bf",
   "metadata": {},
   "outputs": [],
   "source": [
    "def wien_law(nu,T):\n",
    "    \"\"\" Radiance by a Black body at temperature T, as a function of frequency. High frequency approximation (Wien)\n",
    "    \"\"\"\n",
    "    return 0"
   ]
  },
  {
   "cell_type": "markdown",
   "id": "777b4eda-32f1-4b8a-918c-42a23007933e",
   "metadata": {},
   "source": [
    "##### <font color='red'>Para hacer (d)</font>\n",
    "\n",
    "Probar con varios valores de longitud de onda para ver cómo se parecen las aproximaciones a la función de Planck"
   ]
  },
  {
   "cell_type": "code",
   "execution_count": null,
   "id": "9f1c097a-d24a-4b10-bb47-b23295c6200d",
   "metadata": {},
   "outputs": [],
   "source": [
    "# Probemos que las funciones funcionan y tienen las unidades correctas\n",
    "\n",
    "lambda_test = 850*u.nm\n",
    "nu_test = c/lambda_test\n",
    "\n",
    "B_P = planck_law(nu_test,T_mystar).to('W / (m2 Hz sr)')\n",
    "B_RJ =  rayleigh_jeans_law(nu_test,T_mystar).to('W / (m2 Hz sr)')\n",
    "B_W = wien_law(nu_test,T_mystar).to('W / (m2 Hz sr)')\n",
    "\n",
    "print(f\"Wien          : {B_W}\")\n",
    "print(f\"Planck        : {B_P}\")\n",
    "print(f\"Rayleigh-Jeans: {B_RJ}\")"
   ]
  },
  {
   "cell_type": "markdown",
   "id": "928a73fc-4782-4c29-bba9-c439c906ce8a",
   "metadata": {
    "tags": []
   },
   "source": [
    "### Comparación de las aproximaciones\n",
    "\n",
    "Vamos a determinar, para la emisión de nuestro cuerpo negro ideal, en qué rangos podemos utilizar cada una de las aproximaciones que hemos visto."
   ]
  },
  {
   "cell_type": "markdown",
   "id": "3688c7e5-bfed-4e3e-b11b-0dc7766f53f2",
   "metadata": {},
   "source": [
    "Primero representamos gráficamente las tres funciones en función de la frecuencia. \n",
    "\n",
    "##### <font color='red'>Para hacer (e)</font>\n",
    "\n",
    "Probar con varios valores de longitud de onda para ver cómo se parecen las aproximaciones a la función de Planck. Se pueden ver los números que dan las funciones en la celda anterior (evaluados en diferentes frecuencias) para poder tener una idea de los límites del gráfico."
   ]
  },
  {
   "cell_type": "code",
   "execution_count": null,
   "id": "824f332b-4dd3-4e5e-831a-a0d2c32282fc",
   "metadata": {},
   "outputs": [],
   "source": [
    "# Generamos vectores de frecuencia que nos sirvan para una escala logrítmica\n",
    "nu = generate_nu_vector()"
   ]
  },
  {
   "cell_type": "code",
   "execution_count": null,
   "id": "bea4344c-cb4d-4b1d-9431-4e5d3035e36f",
   "metadata": {},
   "outputs": [],
   "source": [
    "nu"
   ]
  },
  {
   "cell_type": "code",
   "execution_count": null,
   "id": "dd3bef1e-f74a-4f3c-9579-4c8b748e9400",
   "metadata": {},
   "outputs": [],
   "source": [
    "fig, ax = plt.subplots(figsize=(12,8))\n",
    "\n",
    "plt.plot(nu.to('THz'),planck_law(nu,T_mystar), color='orange', label=f'T={T_mystar} (Planck)',)\n",
    "plt.plot(nu.to('THz'),rayleigh_jeans_law(nu,T_mystar), color='violet', label=f'T={T_mystar} (R-J)',ls='--',)\n",
    "plt.plot(nu.to('THz'),wien_law(nu,T_mystar),color='red', label=f'T={T_mystar} (Wien)',ls=':',)\n",
    "\n",
    "ax.set_xlabel(r'$\\nu$ [THz]',fontsize=14)\n",
    "ax.set_ylabel(r'Radiance [W m$^{-2}$ Hz$^{-1}$ sr$^{-1}$ ]',fontsize=14)\n",
    "\n",
    "plt.legend()\n",
    "plt.grid(1)\n",
    "\n",
    "### Descomentar abajo y elegir valores adecuados para poder ver bien la zona de interés.\n",
    "\n",
    "#freq_lim0 = (0*u.THz).value\n",
    "#freq_lim1 = (1*u.THz).value\n",
    "#radiance_lim0 = 0\n",
    "#radiance_lim1 = 1\n",
    "\n",
    "#ax.set_xlim([freq_lim0, freq_lim1])\n",
    "#ax.set_ylim([radiance_lim0, radiance_lim1])"
   ]
  },
  {
   "cell_type": "markdown",
   "id": "bf623599-5374-4964-9f4a-d37cc784fe48",
   "metadata": {},
   "source": [
    "\n",
    "Después vamos a usar dos funciones que nos digan las diferencias entre cada una de las aproximaciones con el valor exacto de Planck. "
   ]
  },
  {
   "cell_type": "code",
   "execution_count": null,
   "id": "09b82398-5d00-4e46-88cc-a836202cc988",
   "metadata": {},
   "outputs": [],
   "source": [
    "def diff_Planck_RJ(nu,T):\n",
    "    \"\"\" Relative difference (percentage) between R_J approximation and Planck function at a certain frequency\n",
    "    \"\"\"\n",
    "    B_P = planck_law(nu,T)\n",
    "    B_RJ = rayleigh_jeans_law(nu,T)\n",
    "    return 100*abs((B_P-B_RJ)/B_P)\n",
    "\n",
    "def diff_Planck_Wien(nu, T):\n",
    "    \"\"\" Relative difference (percentage) between Wien approximation and Planck function at a certain frequency\n",
    "    \"\"\"\n",
    "    B_P = planck_law(nu,T)\n",
    "    B_W = wien_law(nu,T)\n",
    "    return 100*abs((B_P-B_W)/B_P)"
   ]
  },
  {
   "cell_type": "markdown",
   "id": "2ea0505c-74d5-4ef9-ad4f-ccfdf90b5191",
   "metadata": {},
   "source": [
    "##### <font color='red'>Para hacer (f)</font>\n",
    "En la zona central de frecuencias ninguna de las dos aproximaciones es válida. Tendremos que encontrar los valores límites en las dos direcciones (alta y baja frecuencia) para los cuales estas diferencias están por debajo del 1%."
   ]
  },
  {
   "cell_type": "code",
   "execution_count": null,
   "id": "c6818c03-33ba-4c8b-b67b-0a501e5a8073",
   "metadata": {},
   "outputs": [],
   "source": [
    "# Límite de baja frecuencia\n",
    "freq_limit_RJ = XXXX*u.THz\n",
    "limit1 = diff_Planck_RJ(freq_limit1,T_mystar)\n",
    "limit1"
   ]
  },
  {
   "cell_type": "code",
   "execution_count": null,
   "id": "c30cac24-6d86-4fcb-8a72-cf6b91ab403f",
   "metadata": {},
   "outputs": [],
   "source": [
    "# Límite de alta frecuencia\n",
    "freq_limit_Wien = XXXX*u.THz\n",
    "limit2 = diff_Planck_Wien(freq_limit2,T_mystar)\n",
    "limit2"
   ]
  },
  {
   "cell_type": "markdown",
   "id": "086a23c9-7f47-4d6b-9785-ce78a56d5a68",
   "metadata": {},
   "source": [
    "Finalmente vamos a graficar las radiancias espectrales en escala logarítmica. Incluiremos líneas verticales marcando los limites calculados anteriormente."
   ]
  },
  {
   "cell_type": "code",
   "execution_count": null,
   "id": "baad7fd4-4f17-4769-a20d-feab41204520",
   "metadata": {},
   "outputs": [],
   "source": [
    "fig, ax = plt.subplots(figsize=(12,8))\n",
    "\n",
    "plt.plot(nu,planck_law(nu,T_mystar),label=f'{T_mystar} (Planck)',color='orange')\n",
    "plt.plot(nu,rayleigh_jeans_law(nu,T_mystar),label=f'{T_mystar} (R-J)',ls='--',color='violet')\n",
    "plt.plot(nu,wien_law(nu,T_mystar),label=f'{T_mystar} (Wien)',ls=':',color='red')\n",
    "\n",
    "# Límites calculados en los que las aproximaciones empiezan a ser cercanas al valor exacto (< 1%)\n",
    "plt.axvline(freq_limit_RJ.to('Hz').value,ls='--')\n",
    "plt.axvline(freq_limit_Wien.to('Hz').value,ls='-.')\n",
    "\n",
    "ax.set_xlabel(r'$\\nu$ [Hz]',fontsize=14)\n",
    "ax.set_ylabel(r'Radiance [W m$^{-2}$ Hz$^{-1}$ sr$^{-1}$]',fontsize=14)\n",
    "\n",
    "# Definimos un eje secundario horizontal (arriba) donde aparezca también la longitud de onda\n",
    "sec_ax = ax.secondary_xaxis('top', functions=(nu2lambda, lambda2nu))\n",
    "sec_ax.set_xlabel(r'$\\lambda$ [mm]',fontsize=14)\n",
    "\n",
    "plt.legend()\n",
    "plt.yscale('log')\n",
    "plt.xscale('log')\n",
    "plt.grid(1)\n",
    "\n",
    "plt.xlim([(1*u.THz).to('Hz').value, (3500*u.THz).to('Hz').value])\n",
    "plt.ylim([1e-15,0.6e-5])"
   ]
  },
  {
   "cell_type": "markdown",
   "id": "99031e25-b5ec-43ae-9b5b-787c5b3ea997",
   "metadata": {},
   "source": [
    "## Energía promedio de los fotones emitidos por un cuerpo negro"
   ]
  },
  {
   "cell_type": "markdown",
   "id": "b30e607d-7a18-4132-b588-34ade9987a61",
   "metadata": {},
   "source": [
    "Vamos a calcular la energía promedio de los fotones del cuerpo negro\n",
    "\n",
    "$$\\langle E_{phot}\\rangle = \\frac{Energia\\;total\\;emitida}{Numero\\;de\\;fotones} = \\frac{\\int_{0}^{\\infty} B_{\\nu}(T)\\,d\\nu}{\\int_{0}^{\\infty} \\frac{B_{\\nu}(T)}{h\\nu}\\,d\\nu} $$ \n",
    "\n",
    "$$ Energia\\;total\\;emitida = \\int_{0}^{\\infty} B_{\\nu}(T)\\,d\\nu = \\int_{0}^{\\infty} \\frac{2h\\nu^3}{c^2} \\frac{1}{e^{h\\nu/kT}-1}\\,d\\nu $$\n",
    "\n",
    "$$ Numero\\;de\\;fotones = \\int_{0}^{\\infty} \\frac{B_{\\nu}(T)}{h\\nu}\\,d\\nu = \\int_{0}^{\\infty} \\frac{2\\nu^2}{c^2} \\frac{1}{e^{h\\nu/kT}-1}\\,d\\nu $$ \n",
    "\n",
    "En cambos casos hacemos un cambio de variable $x = \\frac{h\\nu}{kT}$, tenemos $dx = \\frac{h}{kT}d\\nu$ y sustituimos arriba.\n",
    "\n",
    "\n",
    "Para resolver esta integral, podemos hacerlo numéricamente, aunque también podemos echar mano de la función $\\zeta$ de Riemann (ver https://en.wikipedia.org/wiki/Riemann_zeta_function):\n",
    "\n",
    "$$\\int_{0}^{\\infty} \\frac{x^n}{e^x-1} = n!\\,\\zeta(n+1)$$\n",
    "\n",
    "Al final llegaremos a la siguiente expresión:\n",
    "\n",
    "$$ Energia\\;total\\;emitida = \\frac{2h}{c^{2}} \\left( \\frac{kT}{h}\\right)^{4} 3!\\,\\zeta(4) $$\n",
    "\n",
    "$$ Numero\\;de\\;fotones = \\frac{2}{c^{2}} \\left( \\frac{kT}{h}\\right)^{3} 2!\\,\\zeta(3) $$ \n",
    "\n",
    "Por tanto:\n",
    "\n",
    "$$\\langle E_{phot}\\rangle = kT \\frac{3\\zeta(4)}{\\zeta(3)} $$\n",
    "\n",
    "##### <font color='red'>Para hacer (g)</font>\n",
    "Obtener estas expresiones finales para la energía total emitida y para el número de fotones haciendo los cambios de variable indicados anteriormente y dejando las integrales en función de la $\\zeta(n)$ con el n que corresponde."
   ]
  },
  {
   "cell_type": "markdown",
   "id": "06785dbf-38c8-4c72-98c3-05d831a33c5c",
   "metadata": {},
   "source": [
    "Veamos algo interesante respecto al cuerpo negro: \n",
    "\n",
    "   * La energía total (bolométrica) emitida total por el cuerpo negro es proporcional a $T^4$. Esto lo sabemos de la ley de Stefan-Botzmann (ojo, la ley de S-B se refiere al flujo luminoso recibido, no a la radiancia B$_\\nu$(T), pero la dependencia con la temperatura es la misma).\n",
    "   * El número de fotones que se emiten por segundo y por unidad de área es proporcional a $T^3$. \n",
    "   * La energía promedio de cada fotón es proporcional a T únicamente.\n",
    "   \n",
    "Esto significa que cuando el cuerpo negro aumenta su temperatura ocurre que: (i) se emiten más fotones por segundo; (ii) cada fotón en promedio tendrá mayor energía. Sin embargo el primero de los dos factores domina mucho más que el otro"
   ]
  },
  {
   "cell_type": "code",
   "execution_count": null,
   "id": "0b19848c-40b7-4261-b938-4e969b2082e2",
   "metadata": {},
   "outputs": [],
   "source": []
  },
  {
   "cell_type": "markdown",
   "id": "be673339-d3da-49a0-9e13-e27d5d525ea9",
   "metadata": {},
   "source": [
    "Ahora calculemos la energía promedio de los fotones $\\langle E_{phot}\\rangle$ que será un factor constante multiplicando a kT "
   ]
  },
  {
   "cell_type": "code",
   "execution_count": null,
   "id": "c890c814-05e0-4610-8c23-cdd81362323b",
   "metadata": {},
   "outputs": [],
   "source": [
    "# Calculamos el factor usando la función  Riemann zeta function:\n",
    "\n",
    "factor = 3*zeta(4)/zeta(3)\n",
    "print(factor)"
   ]
  },
  {
   "cell_type": "code",
   "execution_count": null,
   "id": "d38f0da9-e583-4762-9641-ca7e009efada",
   "metadata": {},
   "outputs": [],
   "source": [
    "# Se puede llegar al mismo factor haciendo las integrales correspondientes de forma numérica con la función *quad* de scipy.\n",
    "# https://docs.scipy.org/doc/scipy/reference/generated/scipy.integrate.quad.html\n",
    "# Esta función utiliza una librería en Fortran llamada QUADPACK. Para detalles ver https://en.wikipedia.org/wiki/QUADPACK\n",
    "#\n",
    "# Debemos definir funciones con los integrandos y poner los límites de integración (en este caso entre 0 e infinito).\n",
    "\n",
    "factor2 = quad(integrand3, 0, np.Inf)[0] / quad(integrand2, 0, np.Inf)[0]\n",
    "print(factor2)"
   ]
  },
  {
   "cell_type": "markdown",
   "id": "915c7e6e-cea0-4b02-828e-a0362f339657",
   "metadata": {},
   "source": [
    "##### <font color='red'>Para hacer (h)</font>\n",
    "\n",
    "Calcular la energía promedio según la formula que corresponde y expresar en eV."
   ]
  },
  {
   "cell_type": "code",
   "execution_count": null,
   "id": "6daff50e-42c1-4bad-81b9-277cc3d559d4",
   "metadata": {},
   "outputs": [],
   "source": [
    "E_mean = factor * XXX\n",
    "# Convertir a las unidades que se piden (eV)\n"
   ]
  },
  {
   "cell_type": "markdown",
   "id": "798f7b0e-f7ce-4c52-9c28-a0982187de78",
   "metadata": {},
   "source": [
    "Finalmente calculamos el número de fotones por segundo, por m$^2$ y por esteroradián"
   ]
  },
  {
   "cell_type": "code",
   "execution_count": null,
   "id": "269f814f-bed5-405a-a1e8-0b32acfb0076",
   "metadata": {},
   "outputs": [],
   "source": [
    "N_phot = np.pi*2/np.power(c,2)*pow((k_B)*T_mystar/h,3)*2*zeta(3)/u.sr\n",
    "N_phot.to(' / (s m2 sr)')"
   ]
  },
  {
   "cell_type": "markdown",
   "id": "f9361d60-8748-48e1-b670-92e2654277a6",
   "metadata": {},
   "source": [
    "La energía total radiada (por segundo, por unidad de área) se puede calcular simplemente como el producto del número de fotones por la energía promedio de los fotones:\n",
    "\n",
    "$$E_{tot} = N_{phot}\\,\\langle E_{phot}\\rangle $$"
   ]
  },
  {
   "cell_type": "code",
   "execution_count": null,
   "id": "69dd42e6-f99e-40f7-adc2-f17d5295644d",
   "metadata": {},
   "outputs": [],
   "source": [
    "E_tot = N_phot * E_mean\n",
    "E_tot.to(\"W / (m2 sr)\")"
   ]
  }
 ],
 "metadata": {
  "kernelspec": {
   "display_name": "Python 3 (ipykernel)",
   "language": "python",
   "name": "python3"
  },
  "language_info": {
   "codemirror_mode": {
    "name": "ipython",
    "version": 3
   },
   "file_extension": ".py",
   "mimetype": "text/x-python",
   "name": "python",
   "nbconvert_exporter": "python",
   "pygments_lexer": "ipython3",
   "version": "3.9.12"
  }
 },
 "nbformat": 4,
 "nbformat_minor": 5
}
